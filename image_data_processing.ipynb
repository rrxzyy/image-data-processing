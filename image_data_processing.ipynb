{
 "cells": [
  {
   "cell_type": "code",
   "execution_count": 7,
   "metadata": {},
   "outputs": [],
   "source": [
    "import os\n",
    "from PIL import Image\n",
    "from tensorflow.keras.preprocessing.image import ImageDataGenerator"
   ]
  },
  {
   "cell_type": "code",
   "execution_count": null,
   "metadata": {},
   "outputs": [],
   "source": [
    "img_directory = 'image_dataset/'\n",
    "prefix = 'crop_'\n",
    "\n",
    "dataset = []\n",
    "gen = ImageDataGenerator()\n",
    "\n",
    "img_dir = os.listdir(img_directory)\n",
    "for i, img_name in enumerate(img_dir):\n",
    "    if (img_name.split('.')[1] == 'png'):\n",
    "        img = Image.open(img_directory + img_name)\n",
    "        width, height = img.size\n",
    "        \n",
    "        img_ratio = width / height\n",
    "        new_width = int(width * img_ratio)\n",
    "        new_height = 1600\t\t\t\t\t# ubah sesuai height awal / baru\n",
    "         \n",
    "        img = img.resize((new_width, new_height)) \n",
    "\n",
    "        left = (new_width - new_height) / 2\n",
    "        top = 0\n",
    "        right = new_width - left\n",
    "        bottom = new_height\n",
    "                \n",
    "        img_crop = img.crop((left, top, right, bottom))\t\t# left, top, right, bottom\n",
    "        img_crop.save(prefix+img_name, \"png\")"
   ]
  }
 ],
 "metadata": {
  "kernelspec": {
   "display_name": "image-data-processing-DzbcOy90-py3.11",
   "language": "python",
   "name": "python3"
  },
  "language_info": {
   "codemirror_mode": {
    "name": "ipython",
    "version": 3
   },
   "file_extension": ".py",
   "mimetype": "text/x-python",
   "name": "python",
   "nbconvert_exporter": "python",
   "pygments_lexer": "ipython3",
   "version": "3.11.5"
  }
 },
 "nbformat": 4,
 "nbformat_minor": 2
}
