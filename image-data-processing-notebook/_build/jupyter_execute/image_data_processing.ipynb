{
 "cells": [
  {
   "cell_type": "markdown",
   "metadata": {},
   "source": [
    "## **Image Data Processing**"
   ]
  },
  {
   "cell_type": "code",
   "execution_count": 1,
   "metadata": {},
   "outputs": [
    {
     "ename": "ModuleNotFoundError",
     "evalue": "No module named 'PIL'",
     "output_type": "error",
     "traceback": [
      "\u001b[31m---------------------------------------------------------------------------\u001b[39m",
      "\u001b[31mModuleNotFoundError\u001b[39m                       Traceback (most recent call last)",
      "\u001b[36mCell\u001b[39m\u001b[36m \u001b[39m\u001b[32mIn[1]\u001b[39m\u001b[32m, line 2\u001b[39m\n\u001b[32m      1\u001b[39m \u001b[38;5;28;01mimport\u001b[39;00m\u001b[38;5;250m \u001b[39m\u001b[34;01mos\u001b[39;00m\n\u001b[32m----> \u001b[39m\u001b[32m2\u001b[39m \u001b[38;5;28;01mfrom\u001b[39;00m\u001b[38;5;250m \u001b[39m\u001b[34;01mPIL\u001b[39;00m\u001b[38;5;250m \u001b[39m\u001b[38;5;28;01mimport\u001b[39;00m Image\n\u001b[32m      3\u001b[39m \u001b[38;5;28;01mfrom\u001b[39;00m\u001b[38;5;250m \u001b[39m\u001b[34;01mtensorflow\u001b[39;00m\u001b[34;01m.\u001b[39;00m\u001b[34;01mkeras\u001b[39;00m\u001b[34;01m.\u001b[39;00m\u001b[34;01mpreprocessing\u001b[39;00m\u001b[34;01m.\u001b[39;00m\u001b[34;01mimage\u001b[39;00m\u001b[38;5;250m \u001b[39m\u001b[38;5;28;01mimport\u001b[39;00m ImageDataGenerator\n",
      "\u001b[31mModuleNotFoundError\u001b[39m: No module named 'PIL'"
     ]
    }
   ],
   "source": [
    "import os\n",
    "from PIL import Image\n",
    "from tensorflow.keras.preprocessing.image import ImageDataGenerator"
   ]
  },
  {
   "cell_type": "code",
   "execution_count": null,
   "metadata": {},
   "outputs": [],
   "source": [
    "img_directory = 'image_dataset/'\n",
    "prefix = 'crop_'\n",
    "\n",
    "dataset = []\n",
    "gen = ImageDataGenerator()\n",
    "\n",
    "img_dir = os.listdir(img_directory)\n",
    "for i, img_name in enumerate(img_dir):\n",
    "    if (img_name.split('.')[1] == 'png'):\n",
    "        img = Image.open(img_directory + img_name)\n",
    "        width, height = img.size\n",
    "        \n",
    "        img_ratio = width / height\n",
    "        new_width = int(width * img_ratio)\n",
    "        new_height = 1600\t\t\t\t\t# ubah sesuai height awal / baru\n",
    "         \n",
    "        img = img.resize((new_width, new_height)) \n",
    "\n",
    "        left = (new_width - new_height) / 2\n",
    "        top = 0\n",
    "        right = new_width - left\n",
    "        bottom = new_height\n",
    "                \n",
    "        img_crop = img.crop((left, top, right, bottom))\t\t# left, top, right, bottom\n",
    "        img_crop.save(prefix+img_name, \"png\")"
   ]
  }
 ],
 "metadata": {
  "kernelspec": {
   "display_name": "image-data-processing-DzbcOy90-py3.11",
   "language": "python",
   "name": "python3"
  },
  "language_info": {
   "codemirror_mode": {
    "name": "ipython",
    "version": 3
   },
   "file_extension": ".py",
   "mimetype": "text/x-python",
   "name": "python",
   "nbconvert_exporter": "python",
   "pygments_lexer": "ipython3",
   "version": "3.11.5"
  }
 },
 "nbformat": 4,
 "nbformat_minor": 2
}